{
  "nbformat": 4,
  "nbformat_minor": 0,
  "metadata": {
    "colab": {
      "name": "MaskDetection.ipynb",
      "provenance": [],
      "collapsed_sections": []
    },
    "kernelspec": {
      "name": "python3",
      "display_name": "Python 3"
    },
    "accelerator": "GPU"
  },
  "cells": [
    {
      "cell_type": "code",
      "metadata": {
        "id": "G_x0VtWTeWYL",
        "colab_type": "code",
        "colab": {}
      },
      "source": [
        "import os\n",
        "import zipfile\n",
        "import random\n",
        "import tensorflow as tf\n",
        "import shutil\n",
        "from tensorflow.keras.optimizers import RMSprop\n",
        "from tensorflow.keras.optimizers import Adam\n",
        "from tensorflow.keras.preprocessing.image import ImageDataGenerator\n",
        "from shutil import copyfile\n",
        "from os import getcwd\n",
        "from google.colab import drive"
      ],
      "execution_count": 0,
      "outputs": []
    },
    {
      "cell_type": "code",
      "metadata": {
        "id": "bO6LL-tkfLy2",
        "colab_type": "code",
        "colab": {}
      },
      "source": [
        "drive.mount('/content/drive/')\n",
        "\n",
        "myzip= '/content/drive/My Drive/Datasets/Mask-v-NoMask.zip'\n",
        "zip_ref = zipfile.ZipFile(myzip, 'r')\n",
        "zip_ref.extractall('/tmp/MaskDataset')\n",
        "zip_ref.close()"
      ],
      "execution_count": 0,
      "outputs": []
    },
    {
      "cell_type": "code",
      "metadata": {
        "id": "pdYG3RjDgCpx",
        "colab_type": "code",
        "colab": {}
      },
      "source": [
        "train_mask = os.path.join('/tmp/MaskDataset/Mask-v-NoMask/Train/Mask/')\n",
        "train_nomask = os.path.join('/tmp/MaskDataset/Mask-v-NoMask/Train/NoMask/')\n",
        "test_mask = os.path.join('/tmp/MaskDataset/Mask-v-NoMask/Test/Mask/')\n",
        "test_nomask = os.path.join('/tmp/MaskDataset/Mask-v-NoMask/Test/NoMask/')\n",
        "\n",
        "print('Training Masked Faces:', len(os.listdir(train_mask)))\n",
        "print('Training Unmasked Faces:', len(os.listdir(train_nomask)))\n",
        "print('Testing Masked Faces:', len(os.listdir(test_mask)))\n",
        "print('Testing Unmasked Faces:', len(os.listdir(test_nomask)))"
      ],
      "execution_count": 0,
      "outputs": []
    },
    {
      "cell_type": "code",
      "metadata": {
        "id": "7jzIyE22I1Nq",
        "colab_type": "code",
        "colab": {}
      },
      "source": [
        "model = tf.keras.models.Sequential([\n",
        "    #conv1\n",
        "    tf.keras.layers.Conv2D(16, (3,3), activation='relu', input_shape=(150, 150, 3)),\n",
        "    tf.keras.layers.MaxPooling2D(2, 2),\n",
        "    #conv2\n",
        "    tf.keras.layers.Conv2D(32, (3,3), activation='relu'),\n",
        "    tf.keras.layers.MaxPooling2D(2,2),\n",
        "    #conv3\n",
        "    tf.keras.layers.Conv2D(64, (3,3), activation='relu'),\n",
        "    tf.keras.layers.MaxPooling2D(2,2),\n",
        "    #conv4\n",
        "    tf.keras.layers.Conv2D(64, (3,3), activation='relu'),\n",
        "    tf.keras.layers.MaxPooling2D(2,2),\n",
        "    #conv5\n",
        "    tf.keras.layers.Conv2D(64, (3,3), activation='relu'),\n",
        "    tf.keras.layers.MaxPooling2D(2,2),\n",
        "    #flatten\n",
        "    tf.keras.layers.Flatten(),\n",
        "    #hidden\n",
        "    tf.keras.layers.Dense(512, activation='relu'),\n",
        "    tf.keras.layers.Dense(1, activation='sigmoid')\n",
        "])"
      ],
      "execution_count": 0,
      "outputs": []
    },
    {
      "cell_type": "code",
      "metadata": {
        "id": "fghpOobsjK5R",
        "colab_type": "code",
        "colab": {}
      },
      "source": [
        "model.compile(optimizer=RMSprop(lr=0.0001), loss='binary_crossentropy', metrics=['accuracy'])\n",
        "model.summary()"
      ],
      "execution_count": 0,
      "outputs": []
    },
    {
      "cell_type": "code",
      "metadata": {
        "id": "tITZmxq-jSfD",
        "colab_type": "code",
        "colab": {}
      },
      "source": [
        "traindir = \"/tmp/MaskDataset/Mask-v-NoMask/Train/\"\n",
        "\n",
        "traindatagen = ImageDataGenerator(rescale=1./255)\n",
        "traingen = traindatagen.flow_from_directory(traindir, batch_size=64, class_mode='binary', target_size=(150, 150))\n",
        "\n",
        "validationdir = \"/tmp/MaskDataset/Mask-v-NoMask/Test/\"\n",
        "validationdatagen = ImageDataGenerator(rescale=1./255)\n",
        "validationgen = validationdatagen.flow_from_directory(validationdir, batch_size=25, class_mode='binary', target_size=(150, 150))"
      ],
      "execution_count": 0,
      "outputs": []
    },
    {
      "cell_type": "code",
      "metadata": {
        "id": "EBNQjjVlkY3m",
        "colab_type": "code",
        "colab": {}
      },
      "source": [
        "history = model.fit(traingen,\n",
        "                    epochs=100,\n",
        "                    steps_per_epoch = 32,\n",
        "                    verbose=1,\n",
        "                    validation_steps = 10,\n",
        "                    validation_data=validationgen)"
      ],
      "execution_count": 0,
      "outputs": []
    },
    {
      "cell_type": "code",
      "metadata": {
        "id": "h6gLnSM-k_jM",
        "colab_type": "code",
        "colab": {}
      },
      "source": [
        "%matplotlib inline\n",
        "\n",
        "import matplotlib.image  as mpimg\n",
        "import matplotlib.pyplot as plt\n",
        "\n",
        "acc=history.history['accuracy']\n",
        "val_acc=history.history['val_accuracy']\n",
        "loss=history.history['loss']\n",
        "val_loss=history.history['val_loss']\n",
        "\n",
        "epochs=range(len(acc))\n",
        "\n",
        "plt.plot(epochs, acc, 'r', \"Training Accuracy\")\n",
        "plt.plot(epochs, val_acc, 'b', \"Validation Accuracy\")\n",
        "plt.title('Training and validation accuracy')\n",
        "plt.figure()\n",
        "\n",
        "plt.plot(epochs, loss, 'r', \"Training Loss\")\n",
        "plt.plot(epochs, val_loss, 'b', \"Validation Loss\")\n",
        "plt.title('Training and validation loss')"
      ],
      "execution_count": 0,
      "outputs": []
    },
    {
      "cell_type": "code",
      "metadata": {
        "id": "NM69vjFYRVb-",
        "colab_type": "code",
        "colab": {}
      },
      "source": [
        "import numpy as np\n",
        "from google.colab import files\n",
        "from keras.preprocessing import image\n",
        "\n",
        "uploaded = files.upload()\n",
        "\n",
        "for fn in uploaded.keys():\n",
        " \n",
        "  # predicting images\n",
        "  path = '/content/' + fn\n",
        "  img = image.load_img(path, target_size=(150, 150))\n",
        "  x = image.img_to_array(img)\n",
        "  x = np.expand_dims(x, axis=0)\n",
        "\n",
        "  images = np.vstack([x])\n",
        "  classes = model.predict(images, batch_size=64)\n",
        "  print(fn)\n",
        "  print(classes[0][0])\n",
        "  if classes[0][0]>0.5:\n",
        "    print(fn + \" is not masked\")\n",
        "  else:\n",
        "    print(fn + \" is masked\")"
      ],
      "execution_count": 0,
      "outputs": []
    },
    {
      "cell_type": "code",
      "metadata": {
        "id": "jKi_Q7fqYH_z",
        "colab_type": "code",
        "colab": {}
      },
      "source": [
        "!pip install -U -q PyDrive\n",
        "from pydrive.auth import GoogleAuth\n",
        "from pydrive.drive import GoogleDrive \n",
        "from google.colab import auth \n",
        "from oauth2client.client import GoogleCredentials\n"
      ],
      "execution_count": 0,
      "outputs": []
    },
    {
      "cell_type": "code",
      "metadata": {
        "id": "TRzuHc2RbPQG",
        "colab_type": "code",
        "colab": {}
      },
      "source": [
        "auth.authenticate_user()\n",
        "gauth = GoogleAuth()\n",
        "gauth.credentials = GoogleCredentials.get_application_default()\n",
        "drive = GoogleDrive(gauth)"
      ],
      "execution_count": 0,
      "outputs": []
    },
    {
      "cell_type": "code",
      "metadata": {
        "id": "l-3qhB8DbqVi",
        "colab_type": "code",
        "colab": {}
      },
      "source": [
        "model.save('model.h5')\n",
        "model_file = drive.CreateFile({'title' : 'model.h5'})\n",
        "model_file.SetContentFile('model.h5')\n",
        "model_file.Upload()"
      ],
      "execution_count": 0,
      "outputs": []
    },
    {
      "cell_type": "code",
      "metadata": {
        "id": "MEymWQS_byZ0",
        "colab_type": "code",
        "colab": {}
      },
      "source": [
        "drive.CreateFile({'id': model_file.get('id')})"
      ],
      "execution_count": 0,
      "outputs": []
    }
  ]
}