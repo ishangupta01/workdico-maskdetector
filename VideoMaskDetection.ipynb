{
  "nbformat": 4,
  "nbformat_minor": 0,
  "metadata": {
    "colab": {
      "name": "VideoMaskDetection.ipynb",
      "provenance": [],
      "collapsed_sections": []
    },
    "kernelspec": {
      "name": "python3",
      "display_name": "Python 3"
    },
    "accelerator": "GPU"
  },
  "cells": [
    {
      "cell_type": "code",
      "metadata": {
        "id": "dsThrrl8ya2v",
        "colab_type": "code",
        "colab": {}
      },
      "source": [
        "pip install face_recognition"
      ],
      "execution_count": 0,
      "outputs": []
    },
    {
      "cell_type": "code",
      "metadata": {
        "id": "qbWLGfqg2vaZ",
        "colab_type": "code",
        "colab": {}
      },
      "source": [
        "import face_recognition"
      ],
      "execution_count": 0,
      "outputs": []
    },
    {
      "cell_type": "code",
      "metadata": {
        "id": "YdQCzRxZOHC5",
        "colab_type": "code",
        "colab": {}
      },
      "source": [
        "from google.colab import drive\n",
        "drive.mount('/content/drive')"
      ],
      "execution_count": 0,
      "outputs": []
    },
    {
      "cell_type": "code",
      "metadata": {
        "id": "xxCezVNOPqcM",
        "colab_type": "code",
        "colab": {}
      },
      "source": [
        "import numpy as np\n",
        "from google.colab import files\n",
        "from keras.preprocessing import image\n",
        "from tensorflow import keras\n",
        "\n",
        "def modelfunc(uploaded):\n",
        "\n",
        "    path = '/content/' + uploaded\n",
        "    img = image.load_img(path, target_size=(150, 150))\n",
        "    x = image.img_to_array(img)\n",
        "    x = np.expand_dims(x, axis=0)\n",
        "    images = np.vstack([x])\n",
        "    xmodel=keras.models.load_model('/content/drive/My Drive/model.h5')\n",
        "    classes = xmodel.predict(images, batch_size=10)\n",
        "    print(classes[0][0])\n",
        "    if classes[0][0]>0.5:\n",
        "      return 'NO MASK'\n",
        "    else:\n",
        "      return 'MASK'"
      ],
      "execution_count": 0,
      "outputs": []
    },
    {
      "cell_type": "code",
      "metadata": {
        "id": "PhzhEDJjOC8-",
        "colab_type": "code",
        "colab": {}
      },
      "source": [
        "import cv2\n",
        "from google.colab.patches import cv2_imshow\n",
        "\n",
        "size = 1\n",
        "cam = cv2.VideoCapture(\"/content/drive/My Drive/masktestvid2.avi\")"
      ],
      "execution_count": 0,
      "outputs": []
    },
    {
      "cell_type": "code",
      "metadata": {
        "id": "q3JxvWc8Nzoj",
        "colab_type": "code",
        "colab": {}
      },
      "source": [
        "import numpy as np\n",
        "from keras.preprocessing import image\n",
        "\n",
        "if not cam.isOpened():\n",
        "    raise IOError(\"Video not loaded\")\n",
        "\n",
        "cv2.startWindowThread()\n",
        "res=(int(cam.get(3)),int(cam.get(4)))\n",
        "fourcc = cv2.VideoWriter_fourcc(*'XVID')\n",
        "out = cv2.VideoWriter('result.avi', fourcc, 20.0, res)\n",
        "\n",
        "while True:\n",
        "  (rval, im) = cam.read()\n",
        "  # predicting \n",
        "  if rval == True:\n",
        "    cv2.imwrite(\"frame.jpg\", im)\n",
        "    imag = face_recognition.load_image_file(\"/content/frame.jpg\")\n",
        "    face_locations = face_recognition.face_locations(imag, number_of_times_to_upsample=1, model=\"cnn\")\n",
        "\n",
        "    for f in face_locations:\n",
        "      t, r, b, l = f\n",
        "      sub_face = im[t:b, l:r]\n",
        "      FaceFileName = \"face.jpg\" #Saving frame\n",
        "      if sub_face.size!=0:\n",
        "        cv2.imwrite(FaceFileName, sub_face)\n",
        "      text = modelfunc(FaceFileName)\n",
        "      if text==\"MASK\":\n",
        "        cv2.rectangle(im, (l,t), (r,b), (0,255,0), 2) #green\n",
        "      else:\n",
        "        cv2.rectangle(im, (l,t), (r,b), (0,0,255), 2) #red\n",
        "\n",
        "    out.write(im)\n",
        "  else:\n",
        "    print(\"VIDEO FINISHED\")\n",
        "    break\n",
        "  if cv2.waitKey(1) & 0xFF == 27: #Esc\n",
        "    break\n",
        "\n",
        "cam.release()\n",
        "out.release()"
      ],
      "execution_count": 0,
      "outputs": []
    }
  ]
}